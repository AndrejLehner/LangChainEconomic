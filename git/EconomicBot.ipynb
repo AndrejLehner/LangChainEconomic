{
 "cells": [
  {
   "cell_type": "code",
   "execution_count": 2,
   "metadata": {},
   "outputs": [],
   "source": [
    "url = \"https://export.arxiv.org/rss/cs.AI\"\n",
    "base = \"https://arxiv.org/pdf/\""
   ]
  },
  {
   "cell_type": "code",
   "execution_count": 8,
   "metadata": {},
   "outputs": [],
   "source": [
    "import os \n",
    "from langchain.chains import ConversationalRetrievalChain\n",
    "from langchain.memory import ConversationBufferMemory \n",
    "from langchain_openai import ChatOpenAI, OpenAIEmbeddings\n",
    "from langchain_text_splitters import RecursiveCharacterTextSplitter \n",
    "from langchain.document_loaders import OnlinePDFLoader \n",
    "import requests \n",
    "from langchain.vectorstores import Chroma\n",
    "import xml.etree.ElementTree as ET "
   ]
  },
  {
   "cell_type": "code",
   "execution_count": 5,
   "metadata": {},
   "outputs": [],
   "source": [
    "api_key = os.environ['OPENAI_API_KEY']\n",
    "llm = ChatOpenAI(model=\"gpt-3.5-turbo\",api_key=api_key,temperature=0)"
   ]
  },
  {
   "cell_type": "code",
   "execution_count": 11,
   "metadata": {},
   "outputs": [],
   "source": [
    "response = requests.get(url)\n",
    "node = ET.fromstring(response.content)\n",
    "links = node.findall(\".//link\")"
   ]
  },
  {
   "cell_type": "code",
   "execution_count": 13,
   "metadata": {},
   "outputs": [],
   "source": [
    "links = [link.text for link in links]"
   ]
  },
  {
   "cell_type": "code",
   "execution_count": 15,
   "metadata": {},
   "outputs": [],
   "source": [
    "links = links[1:]"
   ]
  },
  {
   "cell_type": "code",
   "execution_count": 16,
   "metadata": {},
   "outputs": [
    {
     "data": {
      "text/plain": [
       "['https://arxiv.org/abs/2505.03770',\n",
       " 'https://arxiv.org/abs/2505.03800',\n",
       " 'https://arxiv.org/abs/2505.03941',\n",
       " 'https://arxiv.org/abs/2505.03947',\n",
       " 'https://arxiv.org/abs/2505.03961',\n",
       " 'https://arxiv.org/abs/2505.03985',\n",
       " 'https://arxiv.org/abs/2505.03989',\n",
       " 'https://arxiv.org/abs/2505.04019',\n",
       " 'https://arxiv.org/abs/2505.04115',\n",
       " 'https://arxiv.org/abs/2505.04310',\n",
       " 'https://arxiv.org/abs/2505.04313',\n",
       " 'https://arxiv.org/abs/2505.04317',\n",
       " 'https://arxiv.org/abs/2505.04352',\n",
       " 'https://arxiv.org/abs/2505.04480',\n",
       " 'https://arxiv.org/abs/2505.04525',\n",
       " 'https://arxiv.org/abs/2505.04528',\n",
       " 'https://arxiv.org/abs/2505.04539',\n",
       " 'https://arxiv.org/abs/2504.13777',\n",
       " 'https://arxiv.org/abs/2505.03745',\n",
       " 'https://arxiv.org/abs/2505.03746',\n",
       " 'https://arxiv.org/abs/2505.03747',\n",
       " 'https://arxiv.org/abs/2505.03748',\n",
       " 'https://arxiv.org/abs/2505.03750',\n",
       " 'https://arxiv.org/abs/2505.03756',\n",
       " 'https://arxiv.org/abs/2505.03760',\n",
       " 'https://arxiv.org/abs/2505.03763',\n",
       " 'https://arxiv.org/abs/2505.03764',\n",
       " 'https://arxiv.org/abs/2505.03769',\n",
       " 'https://arxiv.org/abs/2505.03780',\n",
       " 'https://arxiv.org/abs/2505.03787',\n",
       " 'https://arxiv.org/abs/2505.03788',\n",
       " 'https://arxiv.org/abs/2505.03790',\n",
       " 'https://arxiv.org/abs/2505.03791',\n",
       " 'https://arxiv.org/abs/2505.03792',\n",
       " 'https://arxiv.org/abs/2505.03793',\n",
       " 'https://arxiv.org/abs/2505.03795',\n",
       " 'https://arxiv.org/abs/2505.03796',\n",
       " 'https://arxiv.org/abs/2505.03798',\n",
       " 'https://arxiv.org/abs/2505.03799',\n",
       " 'https://arxiv.org/abs/2505.03801',\n",
       " 'https://arxiv.org/abs/2505.03802',\n",
       " 'https://arxiv.org/abs/2505.03803',\n",
       " 'https://arxiv.org/abs/2505.03804',\n",
       " 'https://arxiv.org/abs/2505.03806',\n",
       " 'https://arxiv.org/abs/2505.03807',\n",
       " 'https://arxiv.org/abs/2505.03809',\n",
       " 'https://arxiv.org/abs/2505.03810',\n",
       " 'https://arxiv.org/abs/2505.03811',\n",
       " 'https://arxiv.org/abs/2505.03814',\n",
       " 'https://arxiv.org/abs/2505.03816',\n",
       " 'https://arxiv.org/abs/2505.03817',\n",
       " 'https://arxiv.org/abs/2505.03818',\n",
       " 'https://arxiv.org/abs/2505.03819',\n",
       " 'https://arxiv.org/abs/2505.03821',\n",
       " 'https://arxiv.org/abs/2505.03822',\n",
       " 'https://arxiv.org/abs/2505.03824',\n",
       " 'https://arxiv.org/abs/2505.03825',\n",
       " 'https://arxiv.org/abs/2505.03826',\n",
       " 'https://arxiv.org/abs/2505.03827',\n",
       " 'https://arxiv.org/abs/2505.03828',\n",
       " 'https://arxiv.org/abs/2505.03829',\n",
       " 'https://arxiv.org/abs/2505.03832',\n",
       " 'https://arxiv.org/abs/2505.03833',\n",
       " 'https://arxiv.org/abs/2505.03835',\n",
       " 'https://arxiv.org/abs/2505.03836',\n",
       " 'https://arxiv.org/abs/2505.03837',\n",
       " 'https://arxiv.org/abs/2505.03838',\n",
       " 'https://arxiv.org/abs/2505.03840',\n",
       " 'https://arxiv.org/abs/2505.03844',\n",
       " 'https://arxiv.org/abs/2505.03845',\n",
       " 'https://arxiv.org/abs/2505.03846',\n",
       " 'https://arxiv.org/abs/2505.03848',\n",
       " 'https://arxiv.org/abs/2505.03850',\n",
       " 'https://arxiv.org/abs/2505.03853',\n",
       " 'https://arxiv.org/abs/2505.03856',\n",
       " 'https://arxiv.org/abs/2505.03859',\n",
       " 'https://arxiv.org/abs/2505.03863',\n",
       " 'https://arxiv.org/abs/2505.03864',\n",
       " 'https://arxiv.org/abs/2505.03867',\n",
       " 'https://arxiv.org/abs/2505.03896',\n",
       " 'https://arxiv.org/abs/2505.03899',\n",
       " 'https://arxiv.org/abs/2505.03945',\n",
       " 'https://arxiv.org/abs/2505.03946',\n",
       " 'https://arxiv.org/abs/2505.03974',\n",
       " 'https://arxiv.org/abs/2505.03981',\n",
       " 'https://arxiv.org/abs/2505.03983',\n",
       " 'https://arxiv.org/abs/2505.03988',\n",
       " 'https://arxiv.org/abs/2505.04002',\n",
       " 'https://arxiv.org/abs/2505.04015',\n",
       " 'https://arxiv.org/abs/2505.04016',\n",
       " 'https://arxiv.org/abs/2505.04021',\n",
       " 'https://arxiv.org/abs/2505.04034',\n",
       " 'https://arxiv.org/abs/2505.04072',\n",
       " 'https://arxiv.org/abs/2505.04075',\n",
       " 'https://arxiv.org/abs/2505.04083',\n",
       " 'https://arxiv.org/abs/2505.04084',\n",
       " 'https://arxiv.org/abs/2505.04101',\n",
       " 'https://arxiv.org/abs/2505.04132',\n",
       " 'https://arxiv.org/abs/2505.04146',\n",
       " 'https://arxiv.org/abs/2505.04147',\n",
       " 'https://arxiv.org/abs/2505.04165',\n",
       " 'https://arxiv.org/abs/2505.04174',\n",
       " 'https://arxiv.org/abs/2505.04175',\n",
       " 'https://arxiv.org/abs/2505.04185',\n",
       " 'https://arxiv.org/abs/2505.04192',\n",
       " 'https://arxiv.org/abs/2505.04207',\n",
       " 'https://arxiv.org/abs/2505.04209',\n",
       " 'https://arxiv.org/abs/2505.04223',\n",
       " 'https://arxiv.org/abs/2505.04251',\n",
       " 'https://arxiv.org/abs/2505.04260',\n",
       " 'https://arxiv.org/abs/2505.04265',\n",
       " 'https://arxiv.org/abs/2505.04270',\n",
       " 'https://arxiv.org/abs/2505.04278',\n",
       " 'https://arxiv.org/abs/2505.04284',\n",
       " 'https://arxiv.org/abs/2505.04300',\n",
       " 'https://arxiv.org/abs/2505.04308',\n",
       " 'https://arxiv.org/abs/2505.04318',\n",
       " 'https://arxiv.org/abs/2505.04340',\n",
       " 'https://arxiv.org/abs/2505.04354',\n",
       " 'https://arxiv.org/abs/2505.04375',\n",
       " 'https://arxiv.org/abs/2505.04379',\n",
       " 'https://arxiv.org/abs/2505.04388',\n",
       " 'https://arxiv.org/abs/2505.04397',\n",
       " 'https://arxiv.org/abs/2505.04404',\n",
       " 'https://arxiv.org/abs/2505.04405',\n",
       " 'https://arxiv.org/abs/2505.04406',\n",
       " 'https://arxiv.org/abs/2505.04416',\n",
       " 'https://arxiv.org/abs/2505.04419',\n",
       " 'https://arxiv.org/abs/2505.04435',\n",
       " 'https://arxiv.org/abs/2505.04451',\n",
       " 'https://arxiv.org/abs/2505.04461',\n",
       " 'https://arxiv.org/abs/2505.04464',\n",
       " 'https://arxiv.org/abs/2505.04468',\n",
       " 'https://arxiv.org/abs/2505.04486',\n",
       " 'https://arxiv.org/abs/2505.04488',\n",
       " 'https://arxiv.org/abs/2505.04493',\n",
       " 'https://arxiv.org/abs/2505.04497',\n",
       " 'https://arxiv.org/abs/2505.04526',\n",
       " 'https://arxiv.org/abs/2505.04531',\n",
       " 'https://arxiv.org/abs/2505.04553',\n",
       " 'https://arxiv.org/abs/2505.04558',\n",
       " 'https://arxiv.org/abs/2505.04578',\n",
       " 'https://arxiv.org/abs/2505.04592',\n",
       " 'https://arxiv.org/abs/2505.04608',\n",
       " 'https://arxiv.org/abs/2505.04621',\n",
       " 'https://arxiv.org/abs/2505.04623',\n",
       " 'https://arxiv.org/abs/2008.01188',\n",
       " 'https://arxiv.org/abs/2406.01759',\n",
       " 'https://arxiv.org/abs/2502.12224',\n",
       " 'https://arxiv.org/abs/2503.07158',\n",
       " 'https://arxiv.org/abs/2202.03482',\n",
       " 'https://arxiv.org/abs/2302.03669',\n",
       " 'https://arxiv.org/abs/2307.11079',\n",
       " 'https://arxiv.org/abs/2308.04729',\n",
       " 'https://arxiv.org/abs/2308.15022',\n",
       " 'https://arxiv.org/abs/2309.08751',\n",
       " 'https://arxiv.org/abs/2402.17767',\n",
       " 'https://arxiv.org/abs/2406.09713',\n",
       " 'https://arxiv.org/abs/2409.04388',\n",
       " 'https://arxiv.org/abs/2410.03072',\n",
       " 'https://arxiv.org/abs/2410.06523',\n",
       " 'https://arxiv.org/abs/2410.07547',\n",
       " 'https://arxiv.org/abs/2410.19550',\n",
       " 'https://arxiv.org/abs/2410.22377',\n",
       " 'https://arxiv.org/abs/2410.23346',\n",
       " 'https://arxiv.org/abs/2411.00874',\n",
       " 'https://arxiv.org/abs/2411.05261',\n",
       " 'https://arxiv.org/abs/2412.02302',\n",
       " 'https://arxiv.org/abs/2412.11026',\n",
       " 'https://arxiv.org/abs/2501.18271',\n",
       " 'https://arxiv.org/abs/2501.18504',\n",
       " 'https://arxiv.org/abs/2502.00205',\n",
       " 'https://arxiv.org/abs/2502.00290',\n",
       " 'https://arxiv.org/abs/2502.13994',\n",
       " 'https://arxiv.org/abs/2503.01496',\n",
       " 'https://arxiv.org/abs/2503.18314',\n",
       " 'https://arxiv.org/abs/2503.18892',\n",
       " 'https://arxiv.org/abs/2504.02388',\n",
       " 'https://arxiv.org/abs/2504.03783',\n",
       " 'https://arxiv.org/abs/2504.06987',\n",
       " 'https://arxiv.org/abs/2504.12806',\n",
       " 'https://arxiv.org/abs/2504.17393',\n",
       " 'https://arxiv.org/abs/2504.17669',\n",
       " 'https://arxiv.org/abs/2504.18827',\n",
       " 'https://arxiv.org/abs/2504.18884',\n",
       " 'https://arxiv.org/abs/2504.20752',\n",
       " 'https://arxiv.org/abs/2504.21043',\n",
       " 'https://arxiv.org/abs/2504.21226',\n",
       " 'https://arxiv.org/abs/2505.00661',\n",
       " 'https://arxiv.org/abs/2505.01709',\n",
       " 'https://arxiv.org/abs/2505.02366',\n",
       " 'https://arxiv.org/abs/2505.02369',\n",
       " 'https://arxiv.org/abs/2505.03204',\n",
       " 'https://arxiv.org/abs/2505.03335']"
      ]
     },
     "execution_count": 16,
     "metadata": {},
     "output_type": "execute_result"
    }
   ],
   "source": [
    "links"
   ]
  },
  {
   "cell_type": "code",
   "execution_count": 24,
   "metadata": {},
   "outputs": [],
   "source": [
    "links = [f\"{base}{link.split('/')[-1]}.pdf\" for link in links]\n",
    "links=links[:10]"
   ]
  },
  {
   "cell_type": "code",
   "execution_count": 25,
   "metadata": {},
   "outputs": [
    {
     "data": {
      "text/plain": [
       "['https://arxiv.org/pdf/2505.03770.pdf.pdf.pdf',\n",
       " 'https://arxiv.org/pdf/2505.03800.pdf.pdf.pdf',\n",
       " 'https://arxiv.org/pdf/2505.03941.pdf.pdf.pdf',\n",
       " 'https://arxiv.org/pdf/2505.03947.pdf.pdf.pdf',\n",
       " 'https://arxiv.org/pdf/2505.03961.pdf.pdf.pdf',\n",
       " 'https://arxiv.org/pdf/2505.03985.pdf.pdf.pdf',\n",
       " 'https://arxiv.org/pdf/2505.03989.pdf.pdf.pdf',\n",
       " 'https://arxiv.org/pdf/2505.04019.pdf.pdf.pdf',\n",
       " 'https://arxiv.org/pdf/2505.04115.pdf.pdf.pdf',\n",
       " 'https://arxiv.org/pdf/2505.04310.pdf.pdf.pdf']"
      ]
     },
     "execution_count": 25,
     "metadata": {},
     "output_type": "execute_result"
    }
   ],
   "source": [
    "links"
   ]
  },
  {
   "cell_type": "code",
   "execution_count": 26,
   "metadata": {},
   "outputs": [
    {
     "name": "stdout",
     "output_type": "stream",
     "text": [
      "https://arxiv.org/pdf/2505.03770.pdf.pdf.pdf  loaded\n",
      "https://arxiv.org/pdf/2505.03800.pdf.pdf.pdf  loaded\n",
      "https://arxiv.org/pdf/2505.03941.pdf.pdf.pdf  loaded\n",
      "https://arxiv.org/pdf/2505.03947.pdf.pdf.pdf  loaded\n",
      "https://arxiv.org/pdf/2505.03961.pdf.pdf.pdf  loaded\n",
      "https://arxiv.org/pdf/2505.03985.pdf.pdf.pdf  loaded\n",
      "https://arxiv.org/pdf/2505.03989.pdf.pdf.pdf  loaded\n",
      "https://arxiv.org/pdf/2505.04019.pdf.pdf.pdf  loaded\n",
      "https://arxiv.org/pdf/2505.04115.pdf.pdf.pdf  loaded\n",
      "https://arxiv.org/pdf/2505.04310.pdf.pdf.pdf  loaded\n"
     ]
    }
   ],
   "source": [
    "chunks = []\n",
    "splitter = RecursiveCharacterTextSplitter(chunk_size=2000,chunk_overlap=200,separators=[\"\\n\\n\",\"\\n\",\" \",\"\"])\n",
    "for element in links:\n",
    "    try:\n",
    "        _loaded = OnlinePDFLoader(element)\n",
    "        _splitted = _loaded.load_and_split(text_splitter=splitter)\n",
    "        chunks.extend(_splitted)\n",
    "        print(f\"{element}  loaded\")\n",
    "    except:\n",
    "        print(f\"Element {element} not loaded\")"
   ]
  },
  {
   "cell_type": "code",
   "execution_count": 27,
   "metadata": {},
   "outputs": [
    {
     "data": {
      "text/plain": [
       "688"
      ]
     },
     "execution_count": 27,
     "metadata": {},
     "output_type": "execute_result"
    }
   ],
   "source": [
    "len(chunks)"
   ]
  },
  {
   "cell_type": "code",
   "execution_count": 28,
   "metadata": {},
   "outputs": [],
   "source": [
    "chroma_instance = Chroma.from_documents(chunks,OpenAIEmbeddings(api_key=api_key))"
   ]
  },
  {
   "cell_type": "code",
   "execution_count": null,
   "metadata": {},
   "outputs": [
    {
     "data": {
      "text/plain": [
       "True"
      ]
     },
     "execution_count": 29,
     "metadata": {},
     "output_type": "execute_result"
    }
   ],
   "source": [
    "chroma_instance._collection.count() == len(chunks)b"
   ]
  },
  {
   "cell_type": "code",
   "execution_count": null,
   "metadata": {},
   "outputs": [
    {
     "name": "stderr",
     "output_type": "stream",
     "text": [
      "C:\\Users\\lehne\\AppData\\Local\\Temp\\ipykernel_23676\\1773890572.py:1: LangChainDeprecationWarning: Please see the migration guide at: https://python.langchain.com/docs/versions/migrating_memory/\n",
      "  memory = ConversationBufferMemory(memory_key=\"chat_history\",return_messages=True)\n"
     ]
    }
   ],
   "source": [
    "memory = ConversationBufferMemory(memory_key=\"chat_history\",return_messages=True)\n",
    "chain = ConversationalRetrievalChain.from_llm(memory=memory,retriever=chroma_instance.as_bretriever(),llm=llm)"
   ]
  },
  {
   "cell_type": "code",
   "execution_count": 31,
   "metadata": {},
   "outputs": [
    {
     "name": "stdout",
     "output_type": "stream",
     "text": [
      "Similar consequent GR problems share the characteristic of having different distinct sequences that can lead to the same goal. This similarity is important when execution can vary, and different sequences can result in achieving the same goal. The GRAML model is designed to create embeddings that bring different sequences leading to the same goal closer together, as shown in the embedding similarity analysis.\n",
      "YMCAnet is aimed at improving recognition speed. It has a lower computational complexity compared to other models like YOLOv5 and Mask R-CNN, ensuring efficient inference speed and real-time processing capabilities.\n",
      "GRAML aims to reduce the need for costly, manually crafted domain models in Goal Recognition (GR) by treating GR as a deep metric learning task. It also aims to reduce the time-consuming training needed for new emerging goals while enabling quick adaptation to new goals.\n",
      "In BG-GRAML, the first thing selected is a set of m base goals ¯G = ⟨¯g1,..., ¯gm⟩ that ideally cover the potential goal space.\n",
      "Sum-of-squares can be seen as a family of semidefinite optimization problems.\n",
      "The third thread concerns the argument that the inputs into M are accurate, specifically focusing on the competence of simulated human judges in assessing the outcomes of debate.\n",
      "Reasoning is referred to as the ability to resolve a query based on a knowledge base encoded using the logic fragment defined in the context provided.\n"
     ]
    }
   ],
   "source": [
    "while True:\n",
    "    input_user = input('User: ')\n",
    "    q = (input_user.lower() == \"quit\" or input_user.lower()==\"q\")\n",
    "    if q:\n",
    "        break \n",
    "    response = chain.invoke({\"question\":input_user})\n",
    "    print(response['answer'])"
   ]
  },
  {
   "cell_type": "markdown",
   "metadata": {},
   "source": []
  }
 ],
 "metadata": {
  "kernelspec": {
   "display_name": "LangChain",
   "language": "python",
   "name": "python3"
  },
  "language_info": {
   "codemirror_mode": {
    "name": "ipython",
    "version": 3
   },
   "file_extension": ".py",
   "mimetype": "text/x-python",
   "name": "python",
   "nbconvert_exporter": "python",
   "pygments_lexer": "ipython3",
   "version": "3.12.9"
  }
 },
 "nbformat": 4,
 "nbformat_minor": 2
}
